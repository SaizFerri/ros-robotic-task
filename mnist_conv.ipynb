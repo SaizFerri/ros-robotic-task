{
  "nbformat": 4,
  "nbformat_minor": 0,
  "metadata": {
    "colab": {
      "name": "mnist_conv.ipynb",
      "provenance": [],
      "collapsed_sections": []
    },
    "kernelspec": {
      "name": "python3",
      "display_name": "Python 3"
    },
    "accelerator": "GPU"
  },
  "cells": [
    {
      "cell_type": "code",
      "metadata": {
        "id": "lpe-FOF_wk6A",
        "colab_type": "code",
        "colab": {}
      },
      "source": [
        "import os\n",
        "import time\n",
        "import copy\n",
        "\n",
        "import numpy as np\n",
        "import torch\n",
        "import torchvision\n",
        "import torch.nn as nn\n",
        "import torch.nn.functional as F\n",
        "import torch.optim as optim\n",
        "from torchvision import datasets, transforms\n",
        "from torch.utils.data import DataLoader\n",
        "from torch.autograd import Variable\n",
        "import matplotlib.pyplot as plt\n",
        "from PIL import Image"
      ],
      "execution_count": 2,
      "outputs": []
    },
    {
      "cell_type": "code",
      "metadata": {
        "id": "EuGo8PmvwpH1",
        "colab_type": "code",
        "colab": {}
      },
      "source": [
        "WEIGHTS_PATH = 'weights.pt'"
      ],
      "execution_count": 3,
      "outputs": []
    },
    {
      "cell_type": "code",
      "metadata": {
        "id": "EudlyHeOx30i",
        "colab_type": "code",
        "colab": {}
      },
      "source": [
        "transform = transforms.Compose([\n",
        "  transforms.ToTensor()\n",
        "])"
      ],
      "execution_count": 4,
      "outputs": []
    },
    {
      "cell_type": "code",
      "metadata": {
        "id": "9NWuGtFuwxis",
        "colab_type": "code",
        "colab": {}
      },
      "source": [
        "train_dataset = datasets.MNIST('mnist', transform=transform, train=True, download=True)\n",
        "test_dataset = datasets.MNIST('mnist', transform=transform, train=False, download=True)"
      ],
      "execution_count": null,
      "outputs": []
    },
    {
      "cell_type": "code",
      "metadata": {
        "id": "zbgg-vu0wzp3",
        "colab_type": "code",
        "colab": {}
      },
      "source": [
        "train_loader = DataLoader(train_dataset, batch_size=64, shuffle=True, num_workers=4)\n",
        "test_loader = DataLoader(test_dataset, batch_size=64, shuffle=True, num_workers=4)"
      ],
      "execution_count": 6,
      "outputs": []
    },
    {
      "cell_type": "code",
      "metadata": {
        "id": "nABdIgRTw0_Z",
        "colab_type": "code",
        "colab": {}
      },
      "source": [
        "device = torch.device(\"cuda:0\" if torch.cuda.is_available() else \"cpu\")"
      ],
      "execution_count": 7,
      "outputs": []
    },
    {
      "cell_type": "code",
      "metadata": {
        "id": "HZyhem5Sw57U",
        "colab_type": "code",
        "colab": {
          "base_uri": "https://localhost:8080/",
          "height": 53
        },
        "outputId": "69c10a17-05fb-4a8e-ab15-908cb7018bc4"
      },
      "source": [
        "class Model(nn.Module):\n",
        "  def __init__(self):\n",
        "    super(Model, self).__init__()\n",
        "    self.conv1 = nn.Conv2d(1, 32, 3, padding=1)\n",
        "    self.pool = nn.MaxPool2d((2, 2))\n",
        "    self.fc1 = nn.Linear(32 * 14 * 14, 120)\n",
        "    self.fc2 = nn.Linear(120, 84)\n",
        "    self.fc3 = nn.Linear(84, 10)\n",
        "\n",
        "  def forward(self, x):\n",
        "    x = F.relu(self.conv1(x))\n",
        "    x = self.pool(x)\n",
        "    x = x.view(x.size(0), -1)\n",
        "    x = F.relu(self.fc1(x))\n",
        "    x = F.relu(self.fc2(x))\n",
        "    x = self.fc3(x)\n",
        "    return x"
      ],
      "execution_count": 8,
      "outputs": [
        {
          "output_type": "stream",
          "text": [
            "\n",
            "\n"
          ],
          "name": "stdout"
        }
      ]
    },
    {
      "cell_type": "code",
      "metadata": {
        "id": "O4f62MejxkNB",
        "colab_type": "code",
        "colab": {}
      },
      "source": [
        "def train(model, train_loader, criterion, optimizer, epochs=10):\n",
        "  losses = []\n",
        "  best_loss = 0\n",
        "\n",
        "  for e in range(10):\n",
        "    running_loss = 0\n",
        "\n",
        "    for data in train_loader:\n",
        "\n",
        "      images, labels = data[0].to(device), data[1].to(device)\n",
        "\n",
        "      # Training pass\n",
        "      optimizer.zero_grad()\n",
        "      \n",
        "      output = model(images)\n",
        "      loss = criterion(output, labels)\n",
        "      \n",
        "      #This is where the model learns by backpropagating\n",
        "      loss.backward()\n",
        "      \n",
        "      #And optimizes its weights here\n",
        "      optimizer.step()\n",
        "      \n",
        "      running_loss += loss.item()\n",
        "\n",
        "      if e == 0:\n",
        "        best_loss = running_loss\n",
        "\n",
        "    else:\n",
        "      if running_loss < best_loss:\n",
        "        best_loss = running_loss\n",
        "        torch.save(model.state_dict(), WEIGHTS_PATH)\n",
        "      print(\"Epoch {} - Training loss: {}\".format(e, running_loss / len(train_loader)))\n",
        "      losses.append(running_loss / len(train_loader))\n",
        "  return losses"
      ],
      "execution_count": 9,
      "outputs": []
    },
    {
      "cell_type": "code",
      "metadata": {
        "id": "8BNItxZAxtmY",
        "colab_type": "code",
        "colab": {}
      },
      "source": [
        "def validate(test_loader):\n",
        "  model = Model()\n",
        "  model = model.to(device)\n",
        "  model.load_state_dict(torch.load(WEIGHTS_PATH))\n",
        "\n",
        "  correct = 0\n",
        "  with torch.no_grad():\n",
        "    for i, data in enumerate(test_loader):\n",
        "      images, labels = data[0].to(device), data[1].to(device)\n",
        "\n",
        "      # images = images.view(images.shape[0], -1)\n",
        "\n",
        "      output = model(images)\n",
        "      _, preds = torch.max(output, 1)\n",
        "\n",
        "      correct += (len(labels) - len(torch.nonzero(preds - labels)))\n",
        "\n",
        "  print(correct / len(test_loader.dataset))"
      ],
      "execution_count": 12,
      "outputs": []
    },
    {
      "cell_type": "code",
      "metadata": {
        "id": "PK2Bxaoixvfs",
        "colab_type": "code",
        "colab": {}
      },
      "source": [
        "model = Model()\n",
        "model = model.to(device)\n",
        "criterion = nn.CrossEntropyLoss()\n",
        "optimizer = optim.Adam(model.parameters(), lr=0.01)\n",
        "losses = train(model, train_loader, criterion, optimizer)"
      ],
      "execution_count": null,
      "outputs": []
    },
    {
      "cell_type": "code",
      "metadata": {
        "id": "3pXuOtu29cma",
        "colab_type": "code",
        "colab": {}
      },
      "source": [
        "fig = plt.figure()\n",
        "ax = plt.axes()\n",
        "\n",
        "plt.title('Adam and learning rate 0.01. Accuracy ~97%')\n",
        "plt.xlabel('Epochs')\n",
        "plt.ylabel('Training Loss')\n",
        "\n",
        "ax.plot([x for x in range(10)], losses)"
      ],
      "execution_count": null,
      "outputs": []
    },
    {
      "cell_type": "code",
      "metadata": {
        "id": "RsgbyRGoyaVM",
        "colab_type": "code",
        "colab": {}
      },
      "source": [
        "validate(test_loader)"
      ],
      "execution_count": null,
      "outputs": []
    }
  ]
}